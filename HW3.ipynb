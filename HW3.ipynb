{
 "cells": [
  {
   "cell_type": "code",
   "execution_count": 1,
   "id": "ed630904",
   "metadata": {},
   "outputs": [],
   "source": [
    "import requests\n",
    "from bs4 import BeautifulSoup\n",
    "import sys"
   ]
  },
  {
   "cell_type": "code",
   "execution_count": 2,
   "id": "2d1e4492",
   "metadata": {},
   "outputs": [
    {
     "name": "stdout",
     "output_type": "stream",
     "text": [
      "Requirement already satisfied: lxml in c:\\users\\asus\\anaconda3\\lib\\site-packages (4.9.2)\n",
      "Note: you may need to restart the kernel to use updated packages.\n"
     ]
    }
   ],
   "source": [
    "pip install lxml"
   ]
  },
  {
   "cell_type": "code",
   "execution_count": 7,
   "id": "cb58a9a9",
   "metadata": {},
   "outputs": [],
   "source": [
    "response = requests.get('https://www.vscinemas.com.tw/vsweb/film/index.aspx?p=1')\n",
    "soup = BeautifulSoup(response.text, 'lxml')"
   ]
  },
  {
   "cell_type": "markdown",
   "id": "2173c7c0",
   "metadata": {},
   "source": [
    "# 第一頁爬蟲\n"
   ]
  },
  {
   "cell_type": "code",
   "execution_count": 8,
   "id": "00ba4944",
   "metadata": {
    "collapsed": true
   },
   "outputs": [
    {
     "name": "stdout",
     "output_type": "stream",
     "text": [
      "蒼鷺與少年(THE BOY AND THE HERON)，上映日：2023-10-06\n",
      "女鬼橋2：怨鬼樓(THE BRIDGE CURSE RITUAL)，上映日：2023-10-13\n",
      "周處除三害(THE PIG THE SNAKE AND THE PIGEON)，上映日：2023-10-06\n",
      "汪汪隊立大功：超級大電影(PAW PATROL THE MIGHTY MOVIE)，上映日：2023-09-29\n",
      "A.I. 創世者(THE CREATOR)，上映日：2023-09-28\n",
      "日子(DAYS)，上映日：2023-10-27\n",
      "新片神秘場(SKY FILMS INTERNATIONAL)，上映日：2023-10-25\n",
      "花月殺手(KILLERS OF THE FLOWER MOON)，上映日：2023-10-20\n",
      "羽生結弦 ICE STORY 2ND RE_PRAY 巡演 現場直播(YUZURU HANYU ICE STORY 2ND RE PRAY TOUR LIVE)，上映日：2023-11-04\n",
      "TAYLOR SWIFT THE ERAS TOUR(TAYLOR SWIFT THE ERAS TOUR)，上映日：2023-11-03\n",
      "天元突破劇場版 紅蓮螺巖 螺巖篇(GURREN LAGANN THE MOVIE THE LIGHTS IN THE SKY)，上映日：2023-10-20\n",
      "天元突破劇場版 紅蓮螺巖 紅蓮篇(GURREN LAGANN THE MOVIE CHILDHOODS END)，上映日：2023-10-13\n",
      "大法師：信徒(THE EXORCIST BELIEVER)，上映日：2023-10-06\n",
      "大雄之宇宙英雄記 - 電影哆啦A夢(NOBITA AND THE SPACE HEROES)，上映日：2023-10-13\n",
      "劇場版 PSYCHO - PASS 心靈判官 PROVIDENCE(PSYCHO PASS PROVIDENCE)，上映日：2023-09-28\n",
      "DAY 2劇場版IDOLiSH7-偶像星願- LIVE 4bit BEYOND THE PE(DAY 2 IDOLiSH7 THE MOVIE LIVE 4bit BEYOND THE)，上映日：2023-09-22\n",
      "DAY 1劇場版IDOLiSH7-偶像星願- LIVE 4bit BEYOND THE PE(DAY 1 IDOLiSH7 THE MOVIE LIVE 4bit BEYOND THE)，上映日：2023-09-22\n",
      "生命之舞(ARIEL)，上映日：2023-10-20\n",
      "杜巴利伯爵夫人(JEANNE DU BARRY)，上映日：2023-10-20\n",
      "交響狂花(DIVERTIMENTO)，上映日：2023-10-20\n"
     ]
    }
   ],
   "source": [
    "info_items = soup.find_all('section', 'infoArea')\n",
    "for item in info_items:\n",
    "    zh_name = item.h2.text.strip()\n",
    "    en_name = item.h3.text.strip()\n",
    "    time = item.time.text.strip()\n",
    "    print('{}({})，上映日：{}'.format(zh_name, en_name, time))"
   ]
  },
  {
   "cell_type": "code",
   "execution_count": null,
   "id": "74d957c8",
   "metadata": {},
   "outputs": [],
   "source": []
  },
  {
   "cell_type": "code",
   "execution_count": 6,
   "id": "813b6dce",
   "metadata": {},
   "outputs": [
    {
     "ename": "IndentationError",
     "evalue": "unindent does not match any outer indentation level (<tokenize>, line 5)",
     "output_type": "error",
     "traceback": [
      "\u001b[1;36m  File \u001b[1;32m<tokenize>:5\u001b[1;36m\u001b[0m\n\u001b[1;33m    else:\u001b[0m\n\u001b[1;37m    ^\u001b[0m\n\u001b[1;31mIndentationError\u001b[0m\u001b[1;31m:\u001b[0m unindent does not match any outer indentation level\n"
     ]
    }
   ],
   "source": [
    "next_page = soup.find('a', class_='pagebar')\n",
    "if next_page:\n",
    "        page_number += 1\n",
    "        url = 'https://www.vscinemas.com.tw/vsweb/film/index.aspx/page{}'.format(page_number)\n",
    "    else:\n",
    "        break"
   ]
  },
  {
   "cell_type": "code",
   "execution_count": 9,
   "id": "89e5c2b8",
   "metadata": {},
   "outputs": [
    {
     "name": "stdout",
     "output_type": "stream",
     "text": [
      "蒼鷺與少年(THE BOY AND THE HERON)，上映日：2023-10-06\n",
      "女鬼橋2：怨鬼樓(THE BRIDGE CURSE RITUAL)，上映日：2023-10-13\n",
      "周處除三害(THE PIG THE SNAKE AND THE PIGEON)，上映日：2023-10-06\n",
      "汪汪隊立大功：超級大電影(PAW PATROL THE MIGHTY MOVIE)，上映日：2023-09-29\n",
      "A.I. 創世者(THE CREATOR)，上映日：2023-09-28\n",
      "日子(DAYS)，上映日：2023-10-27\n",
      "新片神秘場(SKY FILMS INTERNATIONAL)，上映日：2023-10-25\n",
      "花月殺手(KILLERS OF THE FLOWER MOON)，上映日：2023-10-20\n",
      "羽生結弦 ICE STORY 2ND RE_PRAY 巡演 現場直播(YUZURU HANYU ICE STORY 2ND RE PRAY TOUR LIVE)，上映日：2023-11-04\n",
      "TAYLOR SWIFT THE ERAS TOUR(TAYLOR SWIFT THE ERAS TOUR)，上映日：2023-11-03\n",
      "天元突破劇場版 紅蓮螺巖 螺巖篇(GURREN LAGANN THE MOVIE THE LIGHTS IN THE SKY)，上映日：2023-10-20\n",
      "天元突破劇場版 紅蓮螺巖 紅蓮篇(GURREN LAGANN THE MOVIE CHILDHOODS END)，上映日：2023-10-13\n",
      "大法師：信徒(THE EXORCIST BELIEVER)，上映日：2023-10-06\n",
      "大雄之宇宙英雄記 - 電影哆啦A夢(NOBITA AND THE SPACE HEROES)，上映日：2023-10-13\n",
      "劇場版 PSYCHO - PASS 心靈判官 PROVIDENCE(PSYCHO PASS PROVIDENCE)，上映日：2023-09-28\n",
      "DAY 2劇場版IDOLiSH7-偶像星願- LIVE 4bit BEYOND THE PE(DAY 2 IDOLiSH7 THE MOVIE LIVE 4bit BEYOND THE)，上映日：2023-09-22\n",
      "DAY 1劇場版IDOLiSH7-偶像星願- LIVE 4bit BEYOND THE PE(DAY 1 IDOLiSH7 THE MOVIE LIVE 4bit BEYOND THE)，上映日：2023-09-22\n",
      "生命之舞(ARIEL)，上映日：2023-10-20\n",
      "杜巴利伯爵夫人(JEANNE DU BARRY)，上映日：2023-10-20\n",
      "交響狂花(DIVERTIMENTO)，上映日：2023-10-20\n",
      "蒼鷺與少年(THE BOY AND THE HERON)，上映日：2023-10-06\n",
      "女鬼橋2：怨鬼樓(THE BRIDGE CURSE RITUAL)，上映日：2023-10-13\n",
      "周處除三害(THE PIG THE SNAKE AND THE PIGEON)，上映日：2023-10-06\n",
      "汪汪隊立大功：超級大電影(PAW PATROL THE MIGHTY MOVIE)，上映日：2023-09-29\n",
      "A.I. 創世者(THE CREATOR)，上映日：2023-09-28\n",
      "日子(DAYS)，上映日：2023-10-27\n",
      "新片神秘場(SKY FILMS INTERNATIONAL)，上映日：2023-10-25\n",
      "花月殺手(KILLERS OF THE FLOWER MOON)，上映日：2023-10-20\n",
      "羽生結弦 ICE STORY 2ND RE_PRAY 巡演 現場直播(YUZURU HANYU ICE STORY 2ND RE PRAY TOUR LIVE)，上映日：2023-11-04\n",
      "TAYLOR SWIFT THE ERAS TOUR(TAYLOR SWIFT THE ERAS TOUR)，上映日：2023-11-03\n",
      "天元突破劇場版 紅蓮螺巖 螺巖篇(GURREN LAGANN THE MOVIE THE LIGHTS IN THE SKY)，上映日：2023-10-20\n",
      "天元突破劇場版 紅蓮螺巖 紅蓮篇(GURREN LAGANN THE MOVIE CHILDHOODS END)，上映日：2023-10-13\n",
      "大法師：信徒(THE EXORCIST BELIEVER)，上映日：2023-10-06\n",
      "大雄之宇宙英雄記 - 電影哆啦A夢(NOBITA AND THE SPACE HEROES)，上映日：2023-10-13\n",
      "劇場版 PSYCHO - PASS 心靈判官 PROVIDENCE(PSYCHO PASS PROVIDENCE)，上映日：2023-09-28\n",
      "DAY 2劇場版IDOLiSH7-偶像星願- LIVE 4bit BEYOND THE PE(DAY 2 IDOLiSH7 THE MOVIE LIVE 4bit BEYOND THE)，上映日：2023-09-22\n",
      "DAY 1劇場版IDOLiSH7-偶像星願- LIVE 4bit BEYOND THE PE(DAY 1 IDOLiSH7 THE MOVIE LIVE 4bit BEYOND THE)，上映日：2023-09-22\n",
      "生命之舞(ARIEL)，上映日：2023-10-20\n",
      "杜巴利伯爵夫人(JEANNE DU BARRY)，上映日：2023-10-20\n",
      "交響狂花(DIVERTIMENTO)，上映日：2023-10-20\n",
      "蒼鷺與少年(THE BOY AND THE HERON)，上映日：2023-10-06\n",
      "女鬼橋2：怨鬼樓(THE BRIDGE CURSE RITUAL)，上映日：2023-10-13\n",
      "周處除三害(THE PIG THE SNAKE AND THE PIGEON)，上映日：2023-10-06\n",
      "汪汪隊立大功：超級大電影(PAW PATROL THE MIGHTY MOVIE)，上映日：2023-09-29\n",
      "A.I. 創世者(THE CREATOR)，上映日：2023-09-28\n",
      "日子(DAYS)，上映日：2023-10-27\n",
      "新片神秘場(SKY FILMS INTERNATIONAL)，上映日：2023-10-25\n",
      "花月殺手(KILLERS OF THE FLOWER MOON)，上映日：2023-10-20\n",
      "羽生結弦 ICE STORY 2ND RE_PRAY 巡演 現場直播(YUZURU HANYU ICE STORY 2ND RE PRAY TOUR LIVE)，上映日：2023-11-04\n",
      "TAYLOR SWIFT THE ERAS TOUR(TAYLOR SWIFT THE ERAS TOUR)，上映日：2023-11-03\n",
      "天元突破劇場版 紅蓮螺巖 螺巖篇(GURREN LAGANN THE MOVIE THE LIGHTS IN THE SKY)，上映日：2023-10-20\n",
      "天元突破劇場版 紅蓮螺巖 紅蓮篇(GURREN LAGANN THE MOVIE CHILDHOODS END)，上映日：2023-10-13\n",
      "大法師：信徒(THE EXORCIST BELIEVER)，上映日：2023-10-06\n",
      "大雄之宇宙英雄記 - 電影哆啦A夢(NOBITA AND THE SPACE HEROES)，上映日：2023-10-13\n",
      "劇場版 PSYCHO - PASS 心靈判官 PROVIDENCE(PSYCHO PASS PROVIDENCE)，上映日：2023-09-28\n",
      "DAY 2劇場版IDOLiSH7-偶像星願- LIVE 4bit BEYOND THE PE(DAY 2 IDOLiSH7 THE MOVIE LIVE 4bit BEYOND THE)，上映日：2023-09-22\n",
      "DAY 1劇場版IDOLiSH7-偶像星願- LIVE 4bit BEYOND THE PE(DAY 1 IDOLiSH7 THE MOVIE LIVE 4bit BEYOND THE)，上映日：2023-09-22\n",
      "生命之舞(ARIEL)，上映日：2023-10-20\n",
      "杜巴利伯爵夫人(JEANNE DU BARRY)，上映日：2023-10-20\n",
      "交響狂花(DIVERTIMENTO)，上映日：2023-10-20\n",
      "蒼鷺與少年(THE BOY AND THE HERON)，上映日：2023-10-06\n",
      "女鬼橋2：怨鬼樓(THE BRIDGE CURSE RITUAL)，上映日：2023-10-13\n",
      "周處除三害(THE PIG THE SNAKE AND THE PIGEON)，上映日：2023-10-06\n",
      "汪汪隊立大功：超級大電影(PAW PATROL THE MIGHTY MOVIE)，上映日：2023-09-29\n",
      "A.I. 創世者(THE CREATOR)，上映日：2023-09-28\n",
      "日子(DAYS)，上映日：2023-10-27\n",
      "新片神秘場(SKY FILMS INTERNATIONAL)，上映日：2023-10-25\n",
      "花月殺手(KILLERS OF THE FLOWER MOON)，上映日：2023-10-20\n",
      "羽生結弦 ICE STORY 2ND RE_PRAY 巡演 現場直播(YUZURU HANYU ICE STORY 2ND RE PRAY TOUR LIVE)，上映日：2023-11-04\n",
      "TAYLOR SWIFT THE ERAS TOUR(TAYLOR SWIFT THE ERAS TOUR)，上映日：2023-11-03\n",
      "天元突破劇場版 紅蓮螺巖 螺巖篇(GURREN LAGANN THE MOVIE THE LIGHTS IN THE SKY)，上映日：2023-10-20\n",
      "天元突破劇場版 紅蓮螺巖 紅蓮篇(GURREN LAGANN THE MOVIE CHILDHOODS END)，上映日：2023-10-13\n",
      "大法師：信徒(THE EXORCIST BELIEVER)，上映日：2023-10-06\n",
      "大雄之宇宙英雄記 - 電影哆啦A夢(NOBITA AND THE SPACE HEROES)，上映日：2023-10-13\n",
      "劇場版 PSYCHO - PASS 心靈判官 PROVIDENCE(PSYCHO PASS PROVIDENCE)，上映日：2023-09-28\n",
      "DAY 2劇場版IDOLiSH7-偶像星願- LIVE 4bit BEYOND THE PE(DAY 2 IDOLiSH7 THE MOVIE LIVE 4bit BEYOND THE)，上映日：2023-09-22\n",
      "DAY 1劇場版IDOLiSH7-偶像星願- LIVE 4bit BEYOND THE PE(DAY 1 IDOLiSH7 THE MOVIE LIVE 4bit BEYOND THE)，上映日：2023-09-22\n",
      "生命之舞(ARIEL)，上映日：2023-10-20\n",
      "杜巴利伯爵夫人(JEANNE DU BARRY)，上映日：2023-10-20\n",
      "交響狂花(DIVERTIMENTO)，上映日：2023-10-20\n"
     ]
    }
   ],
   "source": [
    "info_items = soup.find_all('section', 'infoArea')\n",
    "next_page = soup.find('a', class_='icon-arrow-right')\n",
    "pagebar = soup.find('section', 'pagebar')\n",
    "total_pages = len(pagebar.find_all('a'))\n",
    "\n",
    "for page_number in range(1, total_pages ):\n",
    "    url = f'https://www.vscinemas.com.tw/vsweb/film/index.aspx?page={page_number}'\n",
    "    response = requests.get(url)\n",
    "    soup = BeautifulSoup(response.text, 'html.parser')\n",
    "    \n",
    "    for item in info_items:\n",
    "        zh_name = item.h2.text.strip()\n",
    "        en_name = item.h3.text.strip()\n",
    "        time = item.time.text.strip()\n",
    "        print('{}({})，上映日：{}'.format(zh_name, en_name, time))"
   ]
  },
  {
   "cell_type": "code",
   "execution_count": null,
   "id": "962a1677",
   "metadata": {},
   "outputs": [],
   "source": [
    "info_items = soup.find_all('section', 'infoArea')\n",
    "next_page = soup.find('a', class_='icon-arrow-right')\n",
    "page_number = 1\n",
    "\n",
    "    for item in info_items:\n",
    "        zh_name = item.h2.text.strip()\n",
    "        en_name = item.h3.text.strip()\n",
    "        time = item.time.text.strip()\n",
    "        print('{}({})，上映日：{}'.format(zh_name, en_name, time))\n",
    "    \n",
    "print(type(next_page))\n",
    "print(next_page)\n",
    "\n",
    "    if next_page:\n",
    "        page_number += 1\n",
    "        url = 'https://www.vscinemas.com.tw/vsweb/film/index.aspx?page={}'.format(page_number)\n",
    "    else:\n",
    "        sys.exit()"
   ]
  }
 ],
 "metadata": {
  "kernelspec": {
   "display_name": "Python 3 (ipykernel)",
   "language": "python",
   "name": "python3"
  },
  "language_info": {
   "codemirror_mode": {
    "name": "ipython",
    "version": 3
   },
   "file_extension": ".py",
   "mimetype": "text/x-python",
   "name": "python",
   "nbconvert_exporter": "python",
   "pygments_lexer": "ipython3",
   "version": "3.11.4"
  }
 },
 "nbformat": 4,
 "nbformat_minor": 5
}

{
 "cells": [
  {
   "cell_type": "code",
   "execution_count": 1,
   "id": "256f5636",
   "metadata": {},
   "outputs": [],
   "source": [
    "import requests\n",
    "from bs4 import BeautifulSoup"
   ]
  },
  {
   "cell_type": "code",
   "execution_count": 8,
   "id": "712f54bc",
   "metadata": {},
   "outputs": [
    {
     "name": "stdout",
     "output_type": "stream",
     "text": [
      "Collecting dcard\n",
      "  Downloading dcard-0.1.0.tar.gz (1.2 kB)\n",
      "  Preparing metadata (setup.py): started\n",
      "  Preparing metadata (setup.py): finished with status 'done'\n",
      "Building wheels for collected packages: dcard\n",
      "  Building wheel for dcard (setup.py): started\n",
      "  Building wheel for dcard (setup.py): finished with status 'done'\n",
      "  Created wheel for dcard: filename=dcard-0.1.0-py3-none-any.whl size=1535 sha256=41840945de0becc57a95f1e3efea939b69a5b7a8aefe78d499df17d62166a77c\n",
      "  Stored in directory: c:\\users\\asus\\appdata\\local\\pip\\cache\\wheels\\d6\\f4\\0c\\6ed92ac896a4c22b4c6163cd108c629885e0757f99b9fbc949\n",
      "Successfully built dcard\n",
      "Installing collected packages: dcard\n",
      "Successfully installed dcard-0.1.0\n"
     ]
    }
   ],
   "source": [
    "!pip install dcard"
   ]
  },
  {
   "cell_type": "code",
   "execution_count": 10,
   "id": "0447ffc9",
   "metadata": {},
   "outputs": [
    {
     "ename": "KeyError",
     "evalue": "\"name='XSRF-TOKEN', domain=None, path=None\"",
     "output_type": "error",
     "traceback": [
      "\u001b[1;31m---------------------------------------------------------------------------\u001b[0m",
      "\u001b[1;31mKeyError\u001b[0m                                  Traceback (most recent call last)",
      "Cell \u001b[1;32mIn[10], line 2\u001b[0m\n\u001b[0;32m      1\u001b[0m \u001b[38;5;28;01mfrom\u001b[39;00m \u001b[38;5;21;01mdcard\u001b[39;00m \u001b[38;5;28;01mimport\u001b[39;00m Dcard\n\u001b[1;32m----> 2\u001b[0m d \u001b[38;5;241m=\u001b[39m Dcard(\u001b[38;5;124m'\u001b[39m\u001b[38;5;124mhereistimmy@gmail.com\u001b[39m\u001b[38;5;124m'\u001b[39m, \u001b[38;5;124m'\u001b[39m\u001b[38;5;124mtimmy@930607\u001b[39m\u001b[38;5;124m'\u001b[39m)\n\u001b[0;32m      4\u001b[0m \u001b[38;5;66;03m# get info about yourself\u001b[39;00m\n\u001b[0;32m      5\u001b[0m data \u001b[38;5;241m=\u001b[39m d\u001b[38;5;241m.\u001b[39msession\u001b[38;5;241m.\u001b[39mget(\u001b[38;5;124m'\u001b[39m\u001b[38;5;124mhttps://www.dcard.tw/f\u001b[39m\u001b[38;5;124m'\u001b[39m)\u001b[38;5;241m.\u001b[39mjson()\n",
      "File \u001b[1;32m~\\anaconda3\\Lib\\site-packages\\dcard\\__init__.py:15\u001b[0m, in \u001b[0;36mDcard.__init__\u001b[1;34m(self, username, password)\u001b[0m\n\u001b[0;32m     12\u001b[0m \u001b[38;5;28mself\u001b[39m\u001b[38;5;241m.\u001b[39mpassword \u001b[38;5;241m=\u001b[39m password\n\u001b[0;32m     13\u001b[0m \u001b[38;5;28mself\u001b[39m\u001b[38;5;241m.\u001b[39msession \u001b[38;5;241m=\u001b[39m requests\u001b[38;5;241m.\u001b[39mSession()\n\u001b[1;32m---> 15\u001b[0m \u001b[38;5;28mself\u001b[39m\u001b[38;5;241m.\u001b[39m__getToken()\n\u001b[0;32m     16\u001b[0m \u001b[38;5;28mself\u001b[39m\u001b[38;5;241m.\u001b[39m__login()\n",
      "File \u001b[1;32m~\\anaconda3\\Lib\\site-packages\\dcard\\__init__.py:21\u001b[0m, in \u001b[0;36mDcard.__getToken\u001b[1;34m(self)\u001b[0m\n\u001b[0;32m     18\u001b[0m \u001b[38;5;28;01mdef\u001b[39;00m \u001b[38;5;21m__getToken\u001b[39m(\u001b[38;5;28mself\u001b[39m):\n\u001b[0;32m     19\u001b[0m     \u001b[38;5;66;03m# get xsrf token\u001b[39;00m\n\u001b[0;32m     20\u001b[0m     res \u001b[38;5;241m=\u001b[39m \u001b[38;5;28mself\u001b[39m\u001b[38;5;241m.\u001b[39msession\u001b[38;5;241m.\u001b[39mget(login_url)\n\u001b[1;32m---> 21\u001b[0m     token \u001b[38;5;241m=\u001b[39m res\u001b[38;5;241m.\u001b[39mcookies[\u001b[38;5;124m'\u001b[39m\u001b[38;5;124mXSRF-TOKEN\u001b[39m\u001b[38;5;124m'\u001b[39m]\n\u001b[0;32m     23\u001b[0m     \u001b[38;5;66;03m# update session's cookie\u001b[39;00m\n\u001b[0;32m     24\u001b[0m     headers \u001b[38;5;241m=\u001b[39m {\n\u001b[0;32m     25\u001b[0m         \u001b[38;5;124m'\u001b[39m\u001b[38;5;124mContent-Type\u001b[39m\u001b[38;5;124m'\u001b[39m: \u001b[38;5;124m'\u001b[39m\u001b[38;5;124mapplication/json;charset=UTF-8\u001b[39m\u001b[38;5;124m'\u001b[39m,\n\u001b[0;32m     26\u001b[0m         \u001b[38;5;124m'\u001b[39m\u001b[38;5;124mUser-Agent\u001b[39m\u001b[38;5;124m'\u001b[39m: user_agent,\n\u001b[0;32m     27\u001b[0m         \u001b[38;5;124m'\u001b[39m\u001b[38;5;124mX-XSRF-TOKEN\u001b[39m\u001b[38;5;124m'\u001b[39m: token,\n\u001b[0;32m     28\u001b[0m     }\n",
      "File \u001b[1;32m~\\anaconda3\\Lib\\site-packages\\requests\\cookies.py:334\u001b[0m, in \u001b[0;36mRequestsCookieJar.__getitem__\u001b[1;34m(self, name)\u001b[0m\n\u001b[0;32m    327\u001b[0m \u001b[38;5;28;01mdef\u001b[39;00m \u001b[38;5;21m__getitem__\u001b[39m(\u001b[38;5;28mself\u001b[39m, name):\n\u001b[0;32m    328\u001b[0m \u001b[38;5;250m    \u001b[39m\u001b[38;5;124;03m\"\"\"Dict-like __getitem__() for compatibility with client code. Throws\u001b[39;00m\n\u001b[0;32m    329\u001b[0m \u001b[38;5;124;03m    exception if there are more than one cookie with name. In that case,\u001b[39;00m\n\u001b[0;32m    330\u001b[0m \u001b[38;5;124;03m    use the more explicit get() method instead.\u001b[39;00m\n\u001b[0;32m    331\u001b[0m \n\u001b[0;32m    332\u001b[0m \u001b[38;5;124;03m    .. warning:: operation is O(n), not O(1).\u001b[39;00m\n\u001b[0;32m    333\u001b[0m \u001b[38;5;124;03m    \"\"\"\u001b[39;00m\n\u001b[1;32m--> 334\u001b[0m     \u001b[38;5;28;01mreturn\u001b[39;00m \u001b[38;5;28mself\u001b[39m\u001b[38;5;241m.\u001b[39m_find_no_duplicates(name)\n",
      "File \u001b[1;32m~\\anaconda3\\Lib\\site-packages\\requests\\cookies.py:413\u001b[0m, in \u001b[0;36mRequestsCookieJar._find_no_duplicates\u001b[1;34m(self, name, domain, path)\u001b[0m\n\u001b[0;32m    411\u001b[0m \u001b[38;5;28;01mif\u001b[39;00m toReturn:\n\u001b[0;32m    412\u001b[0m     \u001b[38;5;28;01mreturn\u001b[39;00m toReturn\n\u001b[1;32m--> 413\u001b[0m \u001b[38;5;28;01mraise\u001b[39;00m \u001b[38;5;167;01mKeyError\u001b[39;00m(\u001b[38;5;124mf\u001b[39m\u001b[38;5;124m\"\u001b[39m\u001b[38;5;124mname=\u001b[39m\u001b[38;5;132;01m{\u001b[39;00mname\u001b[38;5;132;01m!r}\u001b[39;00m\u001b[38;5;124m, domain=\u001b[39m\u001b[38;5;132;01m{\u001b[39;00mdomain\u001b[38;5;132;01m!r}\u001b[39;00m\u001b[38;5;124m, path=\u001b[39m\u001b[38;5;132;01m{\u001b[39;00mpath\u001b[38;5;132;01m!r}\u001b[39;00m\u001b[38;5;124m\"\u001b[39m)\n",
      "\u001b[1;31mKeyError\u001b[0m: \"name='XSRF-TOKEN', domain=None, path=None\""
     ]
    }
   ],
   "source": [
    "from dcard import Dcard\n",
    "d = Dcard('hereistimmy@gmail.com', 'timmy@930607')\n",
    "\n",
    "# get info about yourself\n",
    "data = d.session.get('https://www.dcard.tw/f').json()\n",
    "data"
   ]
  },
  {
   "cell_type": "code",
   "execution_count": 6,
   "id": "b075b4a6",
   "metadata": {},
   "outputs": [],
   "source": [
    "url = \"https://www.dcard.tw/f/entertainer/p/253601736\"\n",
    "response = requests.get(url)"
   ]
  },
  {
   "cell_type": "code",
   "execution_count": 7,
   "id": "5817b80f",
   "metadata": {},
   "outputs": [
    {
     "data": {
      "text/plain": [
       "'<!DOCTYPE html>\\n<html>\\n  <head>\\n    <meta http-equiv=\"Content-Type\" content=\"text/html; charset=UTF-8\" />\\n    <meta http-equiv=\"X-UA-Compatible\" content=\"IE=Edge\" />\\n    <meta name=\"robots\" content=\"noindex,nofollow\" />\\n    <meta name=\"viewport\" content=\"width=device-width,initial-scale=1\" />\\n    <title>Dcard 無法正常載入</title>\\n    <style>*{box-sizing:border-box}a,body,div,h1,h2,html,p,pre,span{color:#000;margin:0;padding:0}body{background-color:#00324e;font-family:Roboto,Helvetica Neue,Helvetica,Arial,PingFang TC,黑體-繁,Heiti TC,蘋果儷中黑,Apple LiGothic Medium,微軟正黑體,Microsoft JhengHei,sans-serif}@media (max-width:798px){body{background-color:#fff}}.dcard_nav{align-items:center;background-color:#006aa6;display:flex;height:48px}.dcard_logo{height:28px;margin-left:124px;width:74px}@media (max-width:798px){.dcard_logo{margin-left:16px}}h1{font-size:28px;line-height:40px;margin:10px 0}h1,h2{font-weight:500}h2{font-size:24px;line-height:33px;margin:8px 0}p,pre{color:rgba(0,0,0,.75);font-size:14px;font-weight:400;line-height:20px}pre{margin:8px 0;white-space:pre-wrap;white-space:break-spaces;word-break:break-word}main{background-color:#fff;border-radius:4px;display:block;margin:24px 124px;padding:24px}@media (max-width:798px){main{margin:0;padding:0 16px}h1{font-size:24px;line-height:42px}h2{font-size:20px;line-height:33px}}a{background-color:transparent;color:#3397cf;text-decoration:none}:focus{outline:0}.dcard_cf_error_container{background-color:#eee;border-radius:5px;color:#000;display:block;font-family:monospace;font-size:14px;line-height:20px;padding:8px}.dcard_cf_error_container *{font-size:14px!important;line-height:20px!important;list-style-type:none;margin:0;padding:0}</style>\\n  \\n</head>\\n\\n  <body>\\n    <nav class=\"dcard_nav\">\\n      <svg\\n        class=\"dcard_logo\"\\n        xmlns=\"http://www.w3.org/2000/svg\"\\n        xmlns:xlink=\"http://www.w3.org/1999/xlink\"\\n        viewBox=\"0 0 723 272\">\\n        <defs>\\n          <path id=\"a\" d=\"M216 270H0V0h216z\" />\\n          <path id=\"c\" d=\"M108.312 207.975v-207h-108v207z\" />\\n        </defs>\\n        <g fill=\"none\" fill-rule=\"evenodd\">\\n          <path\\n            d=\"M146.313 104.458c-12.424 0-22.5 10.072-22.5 22.491 0 12.42 10.075 22.492 22.5 22.492 12.424 0 22.5-10.072 22.5-22.492 0-12.419-10.076-22.491-22.5-22.491\"\\n            fill=\"#fff\" />\\n          <g transform=\"translate(1 1)\">\\n            <mask id=\"b\" fill=\"#fff\">\\n              <use xlink:href=\"#a\" />\\n            </mask>\\n            <path\\n              d=\"M189 162.025c0 2.805-.145 5.572-.423 8.303-2.943 2.088-6.494 3.371-10.378 3.371-1.461 0-2.861-.227-4.224-.554a49.594 49.594 0 0 1-19.755-11.974l-19.107 19.107c11.484 11.407 26.595 19.11 43.42 21.423-13.91 24.617-40.289 41.3-70.533 41.3H27V133.216c55.35-7.376 103.576-37.152 135.409-79.86 7.025 4.872 12.911 10.497 17.028 16.523A80.394 80.394 0 0 1 189 107.972v54.053zM108 0H0v270h108c59.647 0 108-48.349 108-107.975v-54.053C216 48.342 167.661 0 108 0z\"\\n              fill=\"#FFF\"\\n              mask=\"url(#b)\" />\\n          </g>\\n          <path\\n            d=\"M281.2 180.95c0-11.155 6.857-18.004 26.98-18.004 13.413 0 26.902 0 44.966 9.003v-.004s.143-26.99 0-26.99c-14.745-8.997-35.982-9.01-54.037-9.01-31.476 0-44.89 18.002-44.89 40.5-.022 26.974 0 27.002 0 27.002s-.022-.078 0 27c0 22.5 13.414 40.498 44.89 40.498 18.055 0 39.292-.013 54.037-9.004.143 0 0-26.995 0-26.995v-.005c-18.064 9.004-31.553 9.004-44.967 9.004-20.122 0-26.98-6.843-26.98-18.005V180.95zM461.313 243.947h-36s-15.832.413-15.75-13.5c-.082-13.915 15.998-18.08 51.75-18v31.5zm-18-108c-18.063 0-39.316.014-54.077 9.005-.144 0 0 26.995 0 26.995v.005c18.077-9.006 31.577-9.006 45-9.006 20.137 0 27.077 6.85 27.077 18.004v8.996c-42.98-.058-81 9.001-81 40.5 0 31.5 18 40.501 45 40.501h63v-67.5l-.077-27c0-22.5-13.423-40.5-44.923-40.5zM517.568 158.446v22.5h-.005v90.001h27v-90h-.043v-4.509c0-14.725 44.93-17.992 44.93-17.992s.254-22.499 0-22.499c-58.388 0-71.882 22.5-71.882 22.5\"\\n            fill=\"#FFF\" />\\n          <g transform=\"translate(614 63)\">\\n            <mask id=\"d\" fill=\"#fff\">\\n              <use xlink:href=\"#c\" />\\n            </mask>\\n            <path\\n              d=\"M81.313 180.884h-27s-27 .916-27-26.981c0-27.896-1.328-46.647 10.584-54.924 11.916-8.275 43.416.944 43.416.944v80.96zm0-179.908h-9c8.814 28.555 8.995 74.544 9 76.402-1.63-.527-14.486-4.44-36-4.44-14.978 0-44.857.71-45 44.976 0 0 .018 13.633 0 22.49.03 2.443.053 2.76.072 2.16.048-11.44.048-1.76 0 0-.019 3.916-.041 10.27-.073 20.329.145 49.473 45 44.976 45 44.976h63V.976h-27z\"\\n              fill=\"#FFF\"\\n              mask=\"url(#d)\" />\\n          </g>\\n        </g>\\n      </svg>\\n    </nav>\\n    <main>\\n      <h1>Dcard 無法正常載入</h1>\\n      <h2>發生了一點問題，請稍後再試</h2>\\n      <hr />\\n      <pre>Dcard 在某些情況下會需要驗證請求是真實的人類，而非機器人。\\n\\n如果您符合以下行為，這可能是正常的現象：\\n1. 您操作的頻率過快\\n2. 您的瀏覽器版本過老舊或安裝的擴充程式異常\\n3. 您使用公共網路或受監控的網路環境\\n4. 您使用 VPN 或 Proxy 服務\\n5. 您使用的網路曾經有異常行為</pre\\n      >\\n      <div class=\"dcard_cf_error_container\"><div class=\"cf-error-details cf-error-1020\">\\n  <h1>Access denied</h1>\\n  <p>You do not have access to www.dcard.tw.</p><p>The site owner may have set restrictions that prevent you from accessing the site.</p>\\n  <ul class=\"cferror_details\">\\n    <li>Ray ID: 8185f16129fa49fd</li>\\n    <li>Timestamp: 2023-10-19 03:30:31 UTC</li>\\n    <li>Your IP address: 140.122.53.27</li>\\n    <li class=\"XXX_no_wrap_overflow_hidden\">Requested URL: www.dcard.tw/_api/forums/pet/posts?popular=true </li>\\n    <li>Error reference number: 1020</li>\\n    <li>Server ID: FL_80F215</li>\\n    <li>User-Agent: Mozilla/5.0 (Windows NT 10.0; Win64; x64) AppleWebKit/537.36 (KHTML, like Gecko) Chrome/70.0.3538.110 Safari/537.36</li>\\n  </ul>\\n</div>\\n</div>\\n    </main>\\n  <script>(function(){var js = \"window[\\'__CF$cv$params\\']={r:\\'8185f16129fa49fd\\',t:\\'MTY5NzY4NjIzMS4yMzMwMDA=\\'};_cpo=document.createElement(\\'script\\');_cpo.nonce=\\'\\',_cpo.src=\\'/cdn-cgi/challenge-platform/scripts/jsd/main.js\\',document.getElementsByTagName(\\'head\\')[0].appendChild(_cpo);\";var _0xh = document.createElement(\\'iframe\\');_0xh.height = 1;_0xh.width = 1;_0xh.style.position = \\'absolute\\';_0xh.style.top = 0;_0xh.style.left = 0;_0xh.style.border = \\'none\\';_0xh.style.visibility = \\'hidden\\';document.body.appendChild(_0xh);function handler() {var _0xi = _0xh.contentDocument || _0xh.contentWindow.document;if (_0xi) {var _0xj = _0xi.createElement(\\'script\\');_0xj.innerHTML = js;_0xi.getElementsByTagName(\\'head\\')[0].appendChild(_0xj);}}if (document.readyState !== \\'loading\\') {handler();} else if (window.addEventListener) {document.addEventListener(\\'DOMContentLoaded\\', handler);} else {var prev = document.onreadystatechange || function () {};document.onreadystatechange = function (e) {prev(e);if (document.readyState !== \\'loading\\') {document.onreadystatechange = prev;handler();}};}})();</script></body>\\n</html>\\n'"
      ]
     },
     "execution_count": 7,
     "metadata": {},
     "output_type": "execute_result"
    }
   ],
   "source": [
    "header = {\n",
    " \n",
    "    'user-agent': 'Mozilla/5.0 (Windows NT 10.0; Win64; x64) AppleWebKit/537.36 (KHTML, like Gecko) Chrome/70.0.3538.110 Safari/537.36'\n",
    "}\n",
    " \n",
    " \n",
    "# 利用get取得API資料  \n",
    "url = \"https://www.dcard.tw/_api/forums/pet/posts?popular=true\"\n",
    "reqs = requests.get(url, headers=header)\n",
    "reqs.text"
   ]
  },
  {
   "cell_type": "code",
   "execution_count": 4,
   "id": "25d974dc",
   "metadata": {},
   "outputs": [
    {
     "name": "stdout",
     "output_type": "stream",
     "text": [
      "無法擷取網頁內容\n"
     ]
    }
   ],
   "source": [
    "soup = BeautifulSoup(response.text, \"html.parser\")\n",
    "post_titles = soup.find_all(\"span\")\n",
    "\n",
    "if response.status_code == 200:\n",
    "    html_content = response.text\n",
    "    soup = BeautifulSoup(html_content, \"html.parser\")\n",
    "    title = soup.title.string\n",
    "    print(\"網頁標題:\", title)\n",
    "else:\n",
    "    print(\"無法擷取網頁內容\")"
   ]
  },
  {
   "cell_type": "code",
   "execution_count": null,
   "id": "3f8eb33b",
   "metadata": {},
   "outputs": [],
   "source": []
  },
  {
   "cell_type": "code",
   "execution_count": null,
   "id": "1968e9d7",
   "metadata": {},
   "outputs": [],
   "source": [
    "# 設置Dcard討論區的URL\n",
    "url = \"https://www.dcard.tw/f/all\"\n",
    "\n",
    "# 發送GET請求並獲取網頁內容\n",
    "response = requests.get(url)\n",
    "\n",
    "# 使用BeautifulSoup解析HTML\n",
    "soup = BeautifulSoup(response.text, \"html.parser\")\n",
    "\n",
    "# 找到所有的帖子標題\n",
    "post_titles = soup.find_all(\"h2\", class_=\"tgn9uw-2\")\n",
    "\n",
    "# 逐一打印帖子標題\n",
    "for title in post_titles:\n",
    "    print(title.text)"
   ]
  },
  {
   "cell_type": "code",
   "execution_count": null,
   "id": "eca8e0b6",
   "metadata": {},
   "outputs": [],
   "source": [
    "\n",
    "\n",
    "url = \"https://example.com\"\n",
    "response = requests.get(url)\n",
    "\n",
    "if response.status_code == 200:\n",
    "    html_content = response.text\n",
    "    soup = BeautifulSoup(html_content, \"html.parser\")\n",
    "    title = soup.title.string\n",
    "    print(\"網頁標題:\", title)\n",
    "else:\n",
    "    print(\"無法擷取網頁內容\")\n"
   ]
  }
 ],
 "metadata": {
  "kernelspec": {
   "display_name": "Python 3 (ipykernel)",
   "language": "python",
   "name": "python3"
  },
  "language_info": {
   "codemirror_mode": {
    "name": "ipython",
    "version": 3
   },
   "file_extension": ".py",
   "mimetype": "text/x-python",
   "name": "python",
   "nbconvert_exporter": "python",
   "pygments_lexer": "ipython3",
   "version": "3.11.4"
  }
 },
 "nbformat": 4,
 "nbformat_minor": 5
}

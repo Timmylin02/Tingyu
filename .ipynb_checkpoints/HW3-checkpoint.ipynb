{
 "cells": [
  {
   "cell_type": "code",
   "execution_count": 11,
   "id": "ed630904",
   "metadata": {},
   "outputs": [],
   "source": [
    "import requests\n",
    "from bs4 import BeautifulSoup\n",
    "import sys\n",
    "import csv"
   ]
  },
  {
   "cell_type": "code",
   "execution_count": 12,
   "id": "2d1e4492",
   "metadata": {},
   "outputs": [
    {
     "name": "stdout",
     "output_type": "stream",
     "text": [
      "Requirement already satisfied: lxml in c:\\users\\asus\\anaconda3\\lib\\site-packages (4.9.2)\n",
      "Note: you may need to restart the kernel to use updated packages.\n"
     ]
    }
   ],
   "source": [
    "pip install lxml"
   ]
  },
  {
   "cell_type": "code",
   "execution_count": 13,
   "id": "cb58a9a9",
   "metadata": {},
   "outputs": [
    {
     "name": "stderr",
     "output_type": "stream",
     "text": [
      "C:\\Users\\ASUS\\anaconda3\\Lib\\site-packages\\urllib3\\connectionpool.py:1056: InsecureRequestWarning: Unverified HTTPS request is being made to host 'www.vscinemas.com.tw'. Adding certificate verification is strongly advised. See: https://urllib3.readthedocs.io/en/1.26.x/advanced-usage.html#ssl-warnings\n",
      "  warnings.warn(\n"
     ]
    }
   ],
   "source": [
    "response = requests.get('https://www.vscinemas.com.tw/vsweb/film/index.aspx', verify=False)\n",
    "soup = BeautifulSoup(response.text, 'lxml')"
   ]
  },
  {
   "cell_type": "markdown",
   "id": "2173c7c0",
   "metadata": {},
   "source": [
    "# 第一頁爬蟲\n"
   ]
  },
  {
   "cell_type": "code",
   "execution_count": 14,
   "id": "00ba4944",
   "metadata": {},
   "outputs": [
    {
     "name": "stdout",
     "output_type": "stream",
     "text": [
      "驚奇隊長 2(THE MARVELS)，上映日：2023-11-08\n",
      "蒼鷺與少年(THE BOY AND THE HERON)，上映日：2023-10-06\n",
      "女鬼橋2：怨鬼樓(THE BRIDGE CURSE RITUAL)，上映日：2023-10-13\n",
      "花月殺手(KILLERS OF THE FLOWER MOON)，上映日：2023-10-20\n",
      "周處除三害(THE PIG THE SNAKE AND THE PIGEON)，上映日：2023-10-06\n",
      "汪汪隊立大功：超級大電影(PAW PATROL THE MIGHTY MOVIE)，上映日：2023-09-29\n",
      "惡女(LOST IN PERFECTION)，上映日：2023-10-27\n",
      "新片神秘場(SKY FILMS INTERNATIONAL)，上映日：2023-10-25\n",
      "羽生結弦 ICE STORY 2ND RE_PRAY 巡演 現場直播(YUZURU HANYU ICE STORY 2ND RE PRAY TOUR LIVE)，上映日：2023-11-04\n",
      "TAYLOR SWIFT THE ERAS TOUR(TAYLOR SWIFT THE ERAS TOUR)，上映日：2023-11-03\n",
      "全面啟動10周年紀念版(INCEPTION)，上映日：2023-09-23\n",
      "黑暗騎士(THE DARK KNIGHT)，上映日：2023-09-23\n",
      "捍衛戰士：獨行俠(TOP GUN: MAVERICK)，上映日：2022-12-07\n",
      "天元突破劇場版 紅蓮螺巖 螺巖篇(GURREN LAGANN THE MOVIE THE LIGHTS IN THE SKY)，上映日：2023-10-20\n",
      "天元突破劇場版 紅蓮螺巖 紅蓮篇(GURREN LAGANN THE MOVIE CHILDHOODS END)，上映日：2023-10-13\n",
      "數碼寶貝02 THE BEGINNING(DIGIMON ADVENTURE 02 THE BEGINNING)，上映日：2023-10-27\n",
      "大雄之宇宙英雄記 - 電影哆啦A夢(NOBITA AND THE SPACE HEROES)，上映日：2023-10-13\n",
      "劇場版 PSYCHO - PASS 心靈判官 PROVIDENCE(PSYCHO PASS PROVIDENCE)，上映日：2023-09-28\n",
      "DAY 2劇場版IDOLiSH7-偶像星願- LIVE 4bit BEYOND THE PE(DAY 2 IDOLiSH7 THE MOVIE LIVE 4bit BEYOND THE)，上映日：2023-09-22\n",
      "DAY 1劇場版IDOLiSH7-偶像星願- LIVE 4bit BEYOND THE PE(DAY 1 IDOLiSH7 THE MOVIE LIVE 4bit BEYOND THE)，上映日：2023-09-22\n"
     ]
    }
   ],
   "source": [
    "info_items = soup.find_all('section', 'infoArea')\n",
    "for item in info_items:\n",
    "    zh_name = item.h2.text.strip()\n",
    "    en_name = item.h3.text.strip()\n",
    "    time = item.time.text.strip()\n",
    "    print('{}({})，上映日：{}'.format(zh_name, en_name, time))"
   ]
  },
  {
   "cell_type": "code",
   "execution_count": 21,
   "id": "c176aeaf",
   "metadata": {
    "collapsed": true
   },
   "outputs": [
    {
     "name": "stdout",
     "output_type": "stream",
     "text": [
      "[['蒼鷺與少年', 'THE BOY AND THE HERON', '2023-10-06'], ['女鬼橋2：怨鬼樓', 'THE BRIDGE CURSE RITUAL', '2023-10-13'], ['花月殺手', 'KILLERS OF THE FLOWER MOON', '2023-10-20'], ['周處除三害', 'THE PIG THE SNAKE AND THE PIGEON', '2023-10-06'], ['汪汪隊立大功：超級大電影', 'PAW PATROL THE MIGHTY MOVIE', '2023-09-29'], ['新片神秘場', 'SKY FILMS INTERNATIONAL', '2023-10-25'], ['羽生結弦 ICE STORY 2ND RE_PRAY 巡演 現場直播', 'YUZURU HANYU ICE STORY 2ND RE PRAY TOUR LIVE', '2023-11-04'], ['TAYLOR SWIFT THE ERAS TOUR', 'TAYLOR SWIFT THE ERAS TOUR', '2023-11-03'], ['天元突破劇場版 紅蓮螺巖 螺巖篇', 'GURREN LAGANN THE MOVIE THE LIGHTS IN THE SKY', '2023-10-20'], ['天元突破劇場版 紅蓮螺巖 紅蓮篇', 'GURREN LAGANN THE MOVIE CHILDHOODS END', '2023-10-13'], ['大雄之宇宙英雄記 - 電影哆啦A夢', 'NOBITA AND THE SPACE HEROES', '2023-10-13'], ['劇場版 PSYCHO - PASS 心靈判官 PROVIDENCE', 'PSYCHO PASS PROVIDENCE', '2023-09-28'], ['DAY 2劇場版IDOLiSH7-偶像星願- LIVE 4bit BEYOND THE PE', 'DAY 2 IDOLiSH7 THE MOVIE LIVE 4bit BEYOND THE', '2023-09-22'], ['DAY 1劇場版IDOLiSH7-偶像星願- LIVE 4bit BEYOND THE PE', 'DAY 1 IDOLiSH7 THE MOVIE LIVE 4bit BEYOND THE', '2023-09-22'], ['特別篇 吹響吧！上低音號～合奏團競賽篇～', 'SOUND EUPHONIUM SPECIAL FEATURE ENSEMBLE CONT', '2023-10-20'], ['誆世巨作：蜘蛛窩新宇宙', 'COBWEB', '2023-10-20'], ['詐騙女王', 'MISS FORTUNE', '2023-10-20'], ['杜巴利伯爵夫人', 'JEANNE DU BARRY', '2023-10-20'], ['劇場版城市獵人天使之淚', 'CITY HUNTER THE MOVIE ANGEL DUST', '2023-10-20'], ['換宿夜驚魂', 'THE CUCKOOS CURSE', '2023-10-20']]\n"
     ]
    }
   ],
   "source": [
    "movie_data = []\n",
    "info_items = soup.find_all('section', 'infoArea')\n",
    "for item in info_items:\n",
    "    zh_name = item.h2.text.strip()\n",
    "    en_name = item.h3.text.strip()\n",
    "    time = item.time.text.strip()\n",
    "    movie_data.append([zh_name, en_name, time])\n",
    "   \n",
    "print(movie_data)"
   ]
  },
  {
   "cell_type": "markdown",
   "id": "efc2aa65",
   "metadata": {},
   "source": [
    "# 翻頁"
   ]
  },
  {
   "cell_type": "code",
   "execution_count": 27,
   "id": "89e5c2b8",
   "metadata": {
    "collapsed": true
   },
   "outputs": [
    {
     "name": "stderr",
     "output_type": "stream",
     "text": [
      "C:\\Users\\ASUS\\anaconda3\\Lib\\site-packages\\urllib3\\connectionpool.py:1056: InsecureRequestWarning: Unverified HTTPS request is being made to host 'www.vscinemas.com.tw'. Adding certificate verification is strongly advised. See: https://urllib3.readthedocs.io/en/1.26.x/advanced-usage.html#ssl-warnings\n",
      "  warnings.warn(\n"
     ]
    },
    {
     "name": "stdout",
     "output_type": "stream",
     "text": [
      "驚奇隊長 2(THE MARVELS)，上映日：2023-11-08\n",
      "蒼鷺與少年(THE BOY AND THE HERON)，上映日：2023-10-06\n",
      "女鬼橋2：怨鬼樓(THE BRIDGE CURSE RITUAL)，上映日：2023-10-13\n",
      "花月殺手(KILLERS OF THE FLOWER MOON)，上映日：2023-10-20\n",
      "周處除三害(THE PIG THE SNAKE AND THE PIGEON)，上映日：2023-10-06\n",
      "汪汪隊立大功：超級大電影(PAW PATROL THE MIGHTY MOVIE)，上映日：2023-09-29\n",
      "惡女(LOST IN PERFECTION)，上映日：2023-10-27\n",
      "新片神秘場(SKY FILMS INTERNATIONAL)，上映日：2023-10-25\n",
      "羽生結弦 ICE STORY 2ND RE_PRAY 巡演 現場直播(YUZURU HANYU ICE STORY 2ND RE PRAY TOUR LIVE)，上映日：2023-11-04\n",
      "TAYLOR SWIFT THE ERAS TOUR(TAYLOR SWIFT THE ERAS TOUR)，上映日：2023-11-03\n",
      "全面啟動10周年紀念版(INCEPTION)，上映日：2023-09-23\n",
      "黑暗騎士(THE DARK KNIGHT)，上映日：2023-09-23\n",
      "捍衛戰士：獨行俠(TOP GUN: MAVERICK)，上映日：2022-12-07\n",
      "天元突破劇場版 紅蓮螺巖 螺巖篇(GURREN LAGANN THE MOVIE THE LIGHTS IN THE SKY)，上映日：2023-10-20\n",
      "天元突破劇場版 紅蓮螺巖 紅蓮篇(GURREN LAGANN THE MOVIE CHILDHOODS END)，上映日：2023-10-13\n",
      "數碼寶貝02 THE BEGINNING(DIGIMON ADVENTURE 02 THE BEGINNING)，上映日：2023-10-27\n",
      "大雄之宇宙英雄記 - 電影哆啦A夢(NOBITA AND THE SPACE HEROES)，上映日：2023-10-13\n",
      "劇場版 PSYCHO - PASS 心靈判官 PROVIDENCE(PSYCHO PASS PROVIDENCE)，上映日：2023-09-28\n",
      "DAY 2劇場版IDOLiSH7-偶像星願- LIVE 4bit BEYOND THE PE(DAY 2 IDOLiSH7 THE MOVIE LIVE 4bit BEYOND THE)，上映日：2023-09-22\n",
      "DAY 1劇場版IDOLiSH7-偶像星願- LIVE 4bit BEYOND THE PE(DAY 1 IDOLiSH7 THE MOVIE LIVE 4bit BEYOND THE)，上映日：2023-09-22\n"
     ]
    },
    {
     "name": "stderr",
     "output_type": "stream",
     "text": [
      "C:\\Users\\ASUS\\anaconda3\\Lib\\site-packages\\urllib3\\connectionpool.py:1056: InsecureRequestWarning: Unverified HTTPS request is being made to host 'www.vscinemas.com.tw'. Adding certificate verification is strongly advised. See: https://urllib3.readthedocs.io/en/1.26.x/advanced-usage.html#ssl-warnings\n",
      "  warnings.warn(\n"
     ]
    },
    {
     "name": "stdout",
     "output_type": "stream",
     "text": [
      "雉岳山怪談(MOUNT CHIAK)，上映日：2023-10-27\n",
      "佛萊迪餐館之五夜驚魂(FIVE NIGHTS AT FREDDYS)，上映日：2023-10-27\n",
      "超危險保鑣(FREELANCE)，上映日：2023-10-27\n",
      "驅魔13(13 EXORCISMS)，上映日：2023-10-27\n",
      "萬聖劫(CAROUSEL)，上映日：2023-10-27\n",
      "青春並不溫柔(WHOLL STOP THE RAIN)，上映日：2023-10-27\n",
      "日子(DAYS)，上映日：2023-10-27\n",
      "虎紋少女(TIGER STRIPES)，上映日：2023-10-27\n",
      "野獸們(AS BESTAS)，上映日：2023-10-27\n",
      "狂琴畸戀(KOTOKO)，上映日：2023-10-27\n",
      "飢餓遊戲：自由幻夢(THE HUNGER GAMES MOCKINGJAY PART 1)，上映日：2023-10-27\n",
      "特別篇 吹響吧！上低音號～合奏團競賽篇～(SOUND EUPHONIUM SPECIAL FEATURE ENSEMBLE CONT)，上映日：2023-10-20\n",
      "誆世巨作：蜘蛛窩新宇宙(COBWEB)，上映日：2023-10-20\n",
      "詐騙女王(MISS FORTUNE)，上映日：2023-10-20\n",
      "杜巴利伯爵夫人(JEANNE DU BARRY)，上映日：2023-10-20\n",
      "劇場版城市獵人天使之淚(CITY HUNTER THE MOVIE ANGEL DUST)，上映日：2023-10-20\n",
      "換宿夜驚魂(THE CUCKOOS CURSE)，上映日：2023-10-20\n",
      "明天星期一(MONDAYS SEE YOU THIS WEEK)，上映日：2023-10-20\n",
      "生命之舞(ARIEL)，上映日：2023-10-20\n",
      "交響狂花(DIVERTIMENTO)，上映日：2023-10-20\n"
     ]
    },
    {
     "name": "stderr",
     "output_type": "stream",
     "text": [
      "C:\\Users\\ASUS\\anaconda3\\Lib\\site-packages\\urllib3\\connectionpool.py:1056: InsecureRequestWarning: Unverified HTTPS request is being made to host 'www.vscinemas.com.tw'. Adding certificate verification is strongly advised. See: https://urllib3.readthedocs.io/en/1.26.x/advanced-usage.html#ssl-warnings\n",
      "  warnings.warn(\n"
     ]
    },
    {
     "name": "stdout",
     "output_type": "stream",
     "text": [
      "飢餓遊戲：星火燎原(THE HUNGER GAMES CATCHING FIRE)，上映日：2023-10-20\n",
      "親愛的大衛(DEAR DAVID)，上映日：2023-10-13\n",
      "極惡變身(DEVILS)，上映日：2023-10-13\n",
      "動物感傷の清晨(IN THE MORNING OF LA PETITE MORTE)，上映日：2023-10-13\n",
      "邀阿公阿嬤拍B級殭屍片(ZOMBIE FILM WITH GRANDPAS GRANDMAS)，上映日：2023-10-13\n",
      "幸福的所在(SAFE PLACE)，上映日：2023-10-13\n",
      "破案天才伽利略：真夏方程式(MIDSUMMER FORMULA)，上映日：2023-10-13\n",
      "破案天才伽利略：嫌疑犯X的獻身(SUSPECT X)，上映日：2023-10-13\n",
      "沒有國家的冠軍(ROAD TO BOSTON)，上映日：2023-10-06\n",
      "大法師：信徒(THE EXORCIST BELIEVER)，上映日：2023-10-06\n",
      "麵包超人電影版：樂波莉與暖呼呼禮物(ANPANMAN ROBOLY AND THE WARMING PRESENT)，上映日：2023-10-06\n",
      "笨錢效應(DUMB MONEY)，上映日：2023-10-06\n",
      "德古拉的新娘(HOW TO SAVE THE IMMORTAL)，上映日：2023-10-06\n",
      "A.I. 創世者(THE CREATOR)，上映日：2023-09-28\n",
      "奪魂鋸X(SAW X)，上映日：2023-09-28\n",
      "他馬克老闆(KISS MY ASS BOSS)，上映日：2023-09-28\n",
      "自由之聲(SOUND OF FREEDOM)，上映日：2023-09-22\n",
      "浴血任務4(EXPEND4BLES)，上映日：2023-09-22\n",
      "成功補習班(AFTER SCHOOL)，上映日：2023-09-22\n",
      "威尼斯魅影謀殺案(A HAUNTING IN VENICE)，上映日：2023-09-15\n"
     ]
    },
    {
     "name": "stderr",
     "output_type": "stream",
     "text": [
      "C:\\Users\\ASUS\\anaconda3\\Lib\\site-packages\\urllib3\\connectionpool.py:1056: InsecureRequestWarning: Unverified HTTPS request is being made to host 'www.vscinemas.com.tw'. Adding certificate verification is strongly advised. See: https://urllib3.readthedocs.io/en/1.26.x/advanced-usage.html#ssl-warnings\n",
      "  warnings.warn(\n"
     ]
    },
    {
     "name": "stdout",
     "output_type": "stream",
     "text": [
      "鬼修女II(THE NUN II)，上映日：2023-09-07\n",
      "私刑教育 3(THE EQUALIZER 3)，上映日：2023-08-31\n",
      "粽邪3：鬼門開(THE ROPE CURSE 3)，上映日：2023-08-25\n",
      "GT：跨界玩家(GRAN TURISMO)，上映日：2023-08-23\n",
      "我的麻吉4個鬼(HELLO GHOST)，上映日：2023-08-18\n",
      "新次元！蠟筆小新電影超能力大決戰～飛吧！手卷壽司～(NEW DIMENSION CRAYON SHINCHAN THE M)，上映日：2023-08-04\n",
      "奧本海默(OPPENHEIMER)，上映日：2023-07-21\n",
      "機遇之歌：數位修復版(BLIND CHANCE)，上映日：2022-09-02\n"
     ]
    }
   ],
   "source": [
    "#info_items = soup.find_all('section', 'infoArea')\n",
    "#next_page = soup.find('a', class_='icon-arrow-right')\n",
    "#pagebar = soup.find('section', 'pagebar')\n",
    "#total_pages = len(pagebar.find_all('a'))\n",
    "\n",
    "page = [1,2,3,4]\n",
    "for page_number in page:\n",
    "    url = f'https://www.vscinemas.com.tw/vsweb/film/index.aspx?p={page_number}'\n",
    "    response = requests.get(url, verify=False)\n",
    "    soup = BeautifulSoup(response.text, 'html.parser')\n",
    "    info_items = soup.find_all('section', 'infoArea')\n",
    "    for item in info_items:\n",
    "        zh_name = item.h2.text.strip()\n",
    "        en_name = item.h3.text.strip()\n",
    "        time = item.time.text.strip()\n",
    "        print('{}({})，上映日：{}'.format(zh_name, en_name, time))"
   ]
  },
  {
   "cell_type": "code",
   "execution_count": 38,
   "id": "dad2b3bb",
   "metadata": {
    "scrolled": true
   },
   "outputs": [
    {
     "name": "stderr",
     "output_type": "stream",
     "text": [
      "C:\\Users\\ASUS\\anaconda3\\Lib\\site-packages\\urllib3\\connectionpool.py:1056: InsecureRequestWarning: Unverified HTTPS request is being made to host 'www.vscinemas.com.tw'. Adding certificate verification is strongly advised. See: https://urllib3.readthedocs.io/en/1.26.x/advanced-usage.html#ssl-warnings\n",
      "  warnings.warn(\n",
      "C:\\Users\\ASUS\\anaconda3\\Lib\\site-packages\\urllib3\\connectionpool.py:1056: InsecureRequestWarning: Unverified HTTPS request is being made to host 'www.vscinemas.com.tw'. Adding certificate verification is strongly advised. See: https://urllib3.readthedocs.io/en/1.26.x/advanced-usage.html#ssl-warnings\n",
      "  warnings.warn(\n",
      "C:\\Users\\ASUS\\anaconda3\\Lib\\site-packages\\urllib3\\connectionpool.py:1056: InsecureRequestWarning: Unverified HTTPS request is being made to host 'www.vscinemas.com.tw'. Adding certificate verification is strongly advised. See: https://urllib3.readthedocs.io/en/1.26.x/advanced-usage.html#ssl-warnings\n",
      "  warnings.warn(\n",
      "C:\\Users\\ASUS\\anaconda3\\Lib\\site-packages\\urllib3\\connectionpool.py:1056: InsecureRequestWarning: Unverified HTTPS request is being made to host 'www.vscinemas.com.tw'. Adding certificate verification is strongly advised. See: https://urllib3.readthedocs.io/en/1.26.x/advanced-usage.html#ssl-warnings\n",
      "  warnings.warn(\n"
     ]
    },
    {
     "data": {
      "text/plain": [
       "[['驚奇隊長 2', 'THE MARVELS', '2023-11-08'],\n",
       " ['蒼鷺與少年', 'THE BOY AND THE HERON', '2023-10-06'],\n",
       " ['女鬼橋2：怨鬼樓', 'THE BRIDGE CURSE RITUAL', '2023-10-13'],\n",
       " ['花月殺手', 'KILLERS OF THE FLOWER MOON', '2023-10-20'],\n",
       " ['周處除三害', 'THE PIG THE SNAKE AND THE PIGEON', '2023-10-06'],\n",
       " ['汪汪隊立大功：超級大電影', 'PAW PATROL THE MIGHTY MOVIE', '2023-09-29'],\n",
       " ['惡女', 'LOST IN PERFECTION', '2023-10-27'],\n",
       " ['新片神秘場', 'SKY FILMS INTERNATIONAL', '2023-10-25'],\n",
       " ['羽生結弦 ICE STORY 2ND RE_PRAY 巡演 現場直播',\n",
       "  'YUZURU HANYU ICE STORY 2ND RE PRAY TOUR LIVE',\n",
       "  '2023-11-04'],\n",
       " ['TAYLOR SWIFT THE ERAS TOUR', 'TAYLOR SWIFT THE ERAS TOUR', '2023-11-03'],\n",
       " ['全面啟動10周年紀念版', 'INCEPTION', '2023-09-23'],\n",
       " ['黑暗騎士', 'THE DARK KNIGHT', '2023-09-23'],\n",
       " ['捍衛戰士：獨行俠', 'TOP GUN: MAVERICK', '2022-12-07'],\n",
       " ['天元突破劇場版 紅蓮螺巖 螺巖篇',\n",
       "  'GURREN LAGANN THE MOVIE THE LIGHTS IN THE SKY',\n",
       "  '2023-10-20'],\n",
       " ['天元突破劇場版 紅蓮螺巖 紅蓮篇', 'GURREN LAGANN THE MOVIE CHILDHOODS END', '2023-10-13'],\n",
       " ['數碼寶貝02 THE BEGINNING', 'DIGIMON ADVENTURE 02 THE BEGINNING', '2023-10-27'],\n",
       " ['大雄之宇宙英雄記 - 電影哆啦A夢', 'NOBITA AND THE SPACE HEROES', '2023-10-13'],\n",
       " ['劇場版 PSYCHO - PASS 心靈判官 PROVIDENCE', 'PSYCHO PASS PROVIDENCE', '2023-09-28'],\n",
       " ['DAY 2劇場版IDOLiSH7-偶像星願- LIVE 4bit BEYOND THE PE',\n",
       "  'DAY 2 IDOLiSH7 THE MOVIE LIVE 4bit BEYOND THE',\n",
       "  '2023-09-22'],\n",
       " ['DAY 1劇場版IDOLiSH7-偶像星願- LIVE 4bit BEYOND THE PE',\n",
       "  'DAY 1 IDOLiSH7 THE MOVIE LIVE 4bit BEYOND THE',\n",
       "  '2023-09-22'],\n",
       " ['雉岳山怪談', 'MOUNT CHIAK', '2023-10-27'],\n",
       " ['佛萊迪餐館之五夜驚魂', 'FIVE NIGHTS AT FREDDYS', '2023-10-27'],\n",
       " ['超危險保鑣', 'FREELANCE', '2023-10-27'],\n",
       " ['驅魔13', '13 EXORCISMS', '2023-10-27'],\n",
       " ['萬聖劫', 'CAROUSEL', '2023-10-27'],\n",
       " ['青春並不溫柔', 'WHOLL STOP THE RAIN', '2023-10-27'],\n",
       " ['日子', 'DAYS', '2023-10-27'],\n",
       " ['虎紋少女', 'TIGER STRIPES', '2023-10-27'],\n",
       " ['野獸們', 'AS BESTAS', '2023-10-27'],\n",
       " ['狂琴畸戀', 'KOTOKO', '2023-10-27'],\n",
       " ['飢餓遊戲：自由幻夢', 'THE HUNGER GAMES MOCKINGJAY PART 1', '2023-10-27'],\n",
       " ['特別篇 吹響吧！上低音號～合奏團競賽篇～',\n",
       "  'SOUND EUPHONIUM SPECIAL FEATURE ENSEMBLE CONT',\n",
       "  '2023-10-20'],\n",
       " ['誆世巨作：蜘蛛窩新宇宙', 'COBWEB', '2023-10-20'],\n",
       " ['詐騙女王', 'MISS FORTUNE', '2023-10-20'],\n",
       " ['杜巴利伯爵夫人', 'JEANNE DU BARRY', '2023-10-20'],\n",
       " ['劇場版城市獵人天使之淚', 'CITY HUNTER THE MOVIE ANGEL DUST', '2023-10-20'],\n",
       " ['換宿夜驚魂', 'THE CUCKOOS CURSE', '2023-10-20'],\n",
       " ['明天星期一', 'MONDAYS SEE YOU THIS WEEK', '2023-10-20'],\n",
       " ['生命之舞', 'ARIEL', '2023-10-20'],\n",
       " ['交響狂花', 'DIVERTIMENTO', '2023-10-20'],\n",
       " ['飢餓遊戲：星火燎原', 'THE HUNGER GAMES CATCHING FIRE', '2023-10-20'],\n",
       " ['親愛的大衛', 'DEAR DAVID', '2023-10-13'],\n",
       " ['極惡變身', 'DEVILS', '2023-10-13'],\n",
       " ['動物感傷の清晨', 'IN THE MORNING OF LA PETITE MORTE', '2023-10-13'],\n",
       " ['邀阿公阿嬤拍B級殭屍片', 'ZOMBIE FILM WITH GRANDPAS GRANDMAS', '2023-10-13'],\n",
       " ['幸福的所在', 'SAFE PLACE', '2023-10-13'],\n",
       " ['破案天才伽利略：真夏方程式', 'MIDSUMMER FORMULA', '2023-10-13'],\n",
       " ['破案天才伽利略：嫌疑犯X的獻身', 'SUSPECT X', '2023-10-13'],\n",
       " ['沒有國家的冠軍', 'ROAD TO BOSTON', '2023-10-06'],\n",
       " ['大法師：信徒', 'THE EXORCIST BELIEVER', '2023-10-06'],\n",
       " ['麵包超人電影版：樂波莉與暖呼呼禮物',\n",
       "  'ANPANMAN ROBOLY AND THE WARMING PRESENT',\n",
       "  '2023-10-06'],\n",
       " ['笨錢效應', 'DUMB MONEY', '2023-10-06'],\n",
       " ['德古拉的新娘', 'HOW TO SAVE THE IMMORTAL', '2023-10-06'],\n",
       " ['A.I. 創世者', 'THE CREATOR', '2023-09-28'],\n",
       " ['奪魂鋸X', 'SAW X', '2023-09-28'],\n",
       " ['他馬克老闆', 'KISS MY ASS BOSS', '2023-09-28'],\n",
       " ['自由之聲', 'SOUND OF FREEDOM', '2023-09-22'],\n",
       " ['浴血任務4', 'EXPEND4BLES', '2023-09-22'],\n",
       " ['成功補習班', 'AFTER SCHOOL', '2023-09-22'],\n",
       " ['威尼斯魅影謀殺案', 'A HAUNTING IN VENICE', '2023-09-15'],\n",
       " ['鬼修女II', 'THE NUN II', '2023-09-07'],\n",
       " ['私刑教育 3', 'THE EQUALIZER 3', '2023-08-31'],\n",
       " ['粽邪3：鬼門開', 'THE ROPE CURSE 3', '2023-08-25'],\n",
       " ['GT：跨界玩家', 'GRAN TURISMO', '2023-08-23'],\n",
       " ['我的麻吉4個鬼', 'HELLO GHOST', '2023-08-18'],\n",
       " ['新次元！蠟筆小新電影超能力大決戰～飛吧！手卷壽司～',\n",
       "  'NEW DIMENSION CRAYON SHINCHAN THE M',\n",
       "  '2023-08-04'],\n",
       " ['奧本海默', 'OPPENHEIMER', '2023-07-21'],\n",
       " ['機遇之歌：數位修復版', 'BLIND CHANCE', '2022-09-02']]"
      ]
     },
     "execution_count": 38,
     "metadata": {},
     "output_type": "execute_result"
    }
   ],
   "source": [
    "movie_data = []\n",
    "page = [1,2,3,4]\n",
    "for page_number in page:\n",
    "    url = f'https://www.vscinemas.com.tw/vsweb/film/index.aspx?p={page_number}'\n",
    "    response = requests.get(url, verify=False)\n",
    "    soup = BeautifulSoup(response.text, 'html.parser')\n",
    "    info_items = soup.find_all('section', 'infoArea')\n",
    "    for item in info_items:\n",
    "        zh_name = item.h2.text.strip()\n",
    "        en_name = item.h3.text.strip()\n",
    "        time = item.time.text.strip()\n",
    "        movie_data.append([zh_name, en_name, time])\n",
    "       \n",
    "movie_data\n"
   ]
  },
  {
   "cell_type": "markdown",
   "id": "cb69005f",
   "metadata": {},
   "source": [
    "# csv檔\n"
   ]
  },
  {
   "cell_type": "code",
   "execution_count": 41,
   "id": "7f59b56b",
   "metadata": {},
   "outputs": [],
   "source": [
    "import pandas as pd\n",
    "df = pd.DataFrame(movie_data, columns=['電影名稱(中文)', '電影名稱(英文)','上映日期'])\n",
    "\n",
    "df.to_csv('movie_data.csv', index=False)"
   ]
  },
  {
   "cell_type": "markdown",
   "id": "c05538c4",
   "metadata": {},
   "source": [
    "# json檔"
   ]
  },
  {
   "cell_type": "code",
   "execution_count": 42,
   "id": "8007d139",
   "metadata": {},
   "outputs": [],
   "source": [
    "import json\n",
    "with open('movie_data.json', 'w', encoding='utf-8') as file:\n",
    "    json.dump(movie_data, file, ensure_ascii=False)"
   ]
  },
  {
   "cell_type": "code",
   "execution_count": null,
   "id": "45342f79",
   "metadata": {},
   "outputs": [],
   "source": []
  }
 ],
 "metadata": {
  "kernelspec": {
   "display_name": "Python 3 (ipykernel)",
   "language": "python",
   "name": "python3"
  },
  "language_info": {
   "codemirror_mode": {
    "name": "ipython",
    "version": 3
   },
   "file_extension": ".py",
   "mimetype": "text/x-python",
   "name": "python",
   "nbconvert_exporter": "python",
   "pygments_lexer": "ipython3",
   "version": "3.11.4"
  }
 },
 "nbformat": 4,
 "nbformat_minor": 5
}

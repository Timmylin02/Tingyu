{
 "cells": [
  {
   "cell_type": "code",
   "execution_count": 20,
   "id": "b1324126",
   "metadata": {},
   "outputs": [
    {
     "name": "stdout",
     "output_type": "stream",
     "text": [
      "      登記名字       通路排卡登記品項      特典排序 Unnamed: 3 專卡排序      請確認.     Unnamed: 6  \\\n",
      "0      NaN            NaN    WVS JP         環球  HMV     TOWER  SEVENTEEN NET   \n",
      "1      林庭儀         WVS JP         秀        NaN  NaN       NaN            NaN   \n",
      "2      李定穎         WVS JP         奎        NaN  NaN       NaN            NaN   \n",
      "3      劉昀真  WVS JP, TOWER       漢 圓        NaN  NaN         哲            NaN   \n",
      "4      沈之媛      Universal       NaN          奎  NaN       NaN            NaN   \n",
      "..     ...            ...       ...        ...  ...       ...            ...   \n",
      "68     鄭菩言            HMV       NaN        NaN    漢       NaN            NaN   \n",
      "69     林筑云         WVS JP  WVS JP 圓        NaN  NaN       NaN            NaN   \n",
      "70  Pei ho      SEVEN NET         圓        NaN  NaN       NaN              碩   \n",
      "71     林庭妤          TOWER       NaN        NaN  NaN  Tower  秀            NaN   \n",
      "72     余欣諭         WVS JP         圓        NaN  NaN       NaN            NaN   \n",
      "\n",
      "   Unnamed: 7 專卡排序.1 Unnamed: 9 Unnamed: 10 Unnamed: 11 Unnamed: 12  \\\n",
      "0         NaN      A          B           C           D          普通   \n",
      "1          C盤    NaN        NaN       C盤\\n秀         NaN         NaN   \n",
      "2         克拉盤    NaN        NaN         NaN         NaN         NaN   \n",
      "3           無      無        NaN         NaN         NaN         NaN   \n",
      "4        限定價盤    NaN        NaN         NaN         NaN         NaN   \n",
      "..        ...    ...        ...         ...         ...         ...   \n",
      "68         C盤    NaN        NaN           奎         NaN         NaN   \n",
      "69        克拉盤    NaN        NaN         NaN         NaN         NaN   \n",
      "70    7-11限定盤    NaN        NaN         NaN         NaN         NaN   \n",
      "71         A盤   A盤 俊        NaN         NaN         NaN         NaN   \n",
      "72        NaN    NaN        NaN         NaN         NaN         NaN   \n",
      "\n",
      "   Unnamed: 13 Unnamed: 14    Unnamed: 15  \n",
      "0          限定價         克拉盤  SEVENTEEN NET  \n",
      "1          NaN         NaN            NaN  \n",
      "2          NaN           奎            NaN  \n",
      "3          NaN         NaN            NaN  \n",
      "4       限定價盤 奎         NaN            NaN  \n",
      "..         ...         ...            ...  \n",
      "68         NaN         NaN            NaN  \n",
      "69         NaN       克拉盤 榮            NaN  \n",
      "70         NaN         NaN              碩  \n",
      "71         NaN         NaN            NaN  \n",
      "72         NaN         NaN            NaN  \n",
      "\n",
      "[73 rows x 16 columns]\n"
     ]
    }
   ],
   "source": [
    "import pandas as pd\n",
    "\n",
    "csv_file_path_follow = 'follow.csv'\n",
    "csv_file_path_always = 'always your.csv'\n",
    "\n",
    "\n",
    "df_follow = pd.read_csv(csv_file_path_follow)\n",
    "df_always = pd.read_csv(csv_file_path_always)\n",
    " \n",
    "print (df_always)"
   ]
  },
  {
   "cell_type": "code",
   "execution_count": 26,
   "id": "de2e3836",
   "metadata": {},
   "outputs": [
    {
     "name": "stdout",
     "output_type": "stream",
     "text": [
      "{'林詩玲', '程薇儒'}\n"
     ]
    }
   ],
   "source": [
    "names_follow = df_follow['FB名字']\n",
    "names_always = df_always['登記名字']\n",
    "\n",
    "clean_names_follow = names_follow.dropna ()\n",
    "clean_names_always = names_always.dropna ()\n",
    "\n",
    "names_follow_set = set(clean_names_follow)\n",
    "names_always_set = set(clean_names_always)\n",
    "\n",
    "print (names_follow_set & names_always_set)"
   ]
  },
  {
   "cell_type": "code",
   "execution_count": null,
   "id": "13682ad0",
   "metadata": {},
   "outputs": [],
   "source": []
  },
  {
   "cell_type": "code",
   "execution_count": null,
   "id": "a0f04759",
   "metadata": {},
   "outputs": [],
   "source": []
  }
 ],
 "metadata": {
  "kernelspec": {
   "display_name": "Python 3",
   "language": "python",
   "name": "python3"
  },
  "language_info": {
   "codemirror_mode": {
    "name": "ipython",
    "version": 3
   },
   "file_extension": ".py",
   "mimetype": "text/x-python",
   "name": "python",
   "nbconvert_exporter": "python",
   "pygments_lexer": "ipython3",
   "version": "3.9.11"
  }
 },
 "nbformat": 4,
 "nbformat_minor": 5
}
